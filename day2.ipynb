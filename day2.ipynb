{
 "cells": [
  {
   "cell_type": "markdown",
   "id": "9eb79d58",
   "metadata": {},
   "source": [
    "### 1. 리스트"
   ]
  },
  {
   "cell_type": "code",
   "execution_count": 1,
   "id": "2265d9ed",
   "metadata": {},
   "outputs": [
    {
     "data": {
      "text/plain": [
       "4"
      ]
     },
     "execution_count": 1,
     "metadata": {},
     "output_type": "execute_result"
    }
   ],
   "source": [
    "numbers =[1,2,3,4,5]\n",
    "numbers.index(5)"
   ]
  },
  {
   "cell_type": "code",
   "execution_count": 3,
   "id": "a4fb3421",
   "metadata": {},
   "outputs": [
    {
     "data": {
      "text/plain": [
       "6"
      ]
     },
     "execution_count": 3,
     "metadata": {},
     "output_type": "execute_result"
    }
   ],
   "source": [
    "numbers =[1,2,3,4,5,6,3]\n",
    "numbers.index(3,3)"
   ]
  },
  {
   "cell_type": "code",
   "execution_count": 4,
   "id": "b5fc99c0",
   "metadata": {},
   "outputs": [
    {
     "data": {
      "text/plain": [
       "7"
      ]
     },
     "execution_count": 4,
     "metadata": {},
     "output_type": "execute_result"
    }
   ],
   "source": [
    "len(numbers)"
   ]
  },
  {
   "cell_type": "code",
   "execution_count": 6,
   "id": "02f4f13e",
   "metadata": {},
   "outputs": [
    {
     "data": {
      "text/plain": [
       "[1, 2, 3, 4, 5, 6, 3]"
      ]
     },
     "execution_count": 6,
     "metadata": {},
     "output_type": "execute_result"
    }
   ],
   "source": [
    "numbers.reverse()\n",
    "numbers"
   ]
  },
  {
   "cell_type": "code",
   "execution_count": 7,
   "id": "bb2d9f94",
   "metadata": {},
   "outputs": [
    {
     "data": {
      "text/plain": [
       "[1, 2, 3, 3, 4, 5, 6]"
      ]
     },
     "execution_count": 7,
     "metadata": {},
     "output_type": "execute_result"
    }
   ],
   "source": [
    "numbers.sort()\n",
    "numbers"
   ]
  },
  {
   "cell_type": "code",
   "execution_count": 8,
   "id": "ba2892bf",
   "metadata": {},
   "outputs": [
    {
     "data": {
      "text/plain": [
       "[6, 5, 4, 3, 3, 2, 1]"
      ]
     },
     "execution_count": 8,
     "metadata": {},
     "output_type": "execute_result"
    }
   ],
   "source": [
    "numbers.reverse()\n",
    "numbers"
   ]
  },
  {
   "cell_type": "markdown",
   "id": "69c84f9c",
   "metadata": {},
   "source": [
    "### 2. 주석\n",
    "- 한줄주석 : #\n",
    "- 여러줄주석 : ''' or \"\"\""
   ]
  },
  {
   "cell_type": "code",
   "execution_count": 9,
   "id": "6eaef7eb",
   "metadata": {},
   "outputs": [
    {
     "name": "stdout",
     "output_type": "stream",
     "text": [
      "0-apple\n",
      "1-mango\n",
      "2-banana\n"
     ]
    }
   ],
   "source": [
    "#set 방식\n",
    "fruits = {\"apple\",\"banana\",\"mango\"}\n",
    "for idx, value in enumerate(fruits):\n",
    "    print(\"{}-{}\".format(idx,value))"
   ]
  },
  {
   "cell_type": "code",
   "execution_count": 10,
   "id": "4c931cd9",
   "metadata": {},
   "outputs": [
    {
     "name": "stdout",
     "output_type": "stream",
     "text": [
      "0-apple\n",
      "1-banana\n",
      "2-mango\n"
     ]
    }
   ],
   "source": [
    "fruits = [\"apple\",\"banana\",\"mango\"]\n",
    "for idx, value in enumerate(fruits):\n",
    "    print(\"{}-{}\".format(idx,value))"
   ]
  },
  {
   "cell_type": "code",
   "execution_count": 12,
   "id": "78c83196",
   "metadata": {},
   "outputs": [
    {
     "name": "stdout",
     "output_type": "stream",
     "text": [
      "0-('a', 'apple')\n",
      "1-('b', 'banana')\n",
      "2-('m', 'mango')\n"
     ]
    }
   ],
   "source": [
    "# map 방식\n",
    "fruits = {\"a\":\"apple\",\"b\":\"banana\",\"m\":\"mango\"}\n",
    "for idx, value in enumerate(fruits.items()):\n",
    "    print(\"{}-{}\".format(idx,value))"
   ]
  },
  {
   "cell_type": "markdown",
   "id": "2c1e8fa8",
   "metadata": {},
   "source": [
    "### 3. 함수"
   ]
  },
  {
   "cell_type": "markdown",
   "id": "a341ae3c",
   "metadata": {},
   "source": [
    "1. 함수 정의"
   ]
  },
  {
   "cell_type": "code",
   "execution_count": 17,
   "id": "4349dc8f",
   "metadata": {},
   "outputs": [],
   "source": [
    "def add (x,y):\n",
    "    \"\"\" 함수의 첫 라인에 독스트링을 포함시킬 수 있다 \"\"\"\n",
    "    sum = x + y\n",
    "    return sum"
   ]
  },
  {
   "cell_type": "markdown",
   "id": "6024b63f",
   "metadata": {},
   "source": [
    "2. 함수 호출"
   ]
  },
  {
   "cell_type": "code",
   "execution_count": 16,
   "id": "473c966e",
   "metadata": {},
   "outputs": [
    {
     "data": {
      "text/plain": [
       "30"
      ]
     },
     "execution_count": 16,
     "metadata": {},
     "output_type": "execute_result"
    }
   ],
   "source": [
    "add(10,20)"
   ]
  },
  {
   "cell_type": "markdown",
   "id": "1c7691cf",
   "metadata": {},
   "source": [
    "#### 문제\n",
    "1. 1~10까지의 정수가 있다. 홀수의 합과 짝수의 합을 구하시오"
   ]
  },
  {
   "cell_type": "code",
   "execution_count": 18,
   "id": "a57440bf",
   "metadata": {},
   "outputs": [
    {
     "name": "stdout",
     "output_type": "stream",
     "text": [
      "홀수합=30,짝수합=25\n"
     ]
    }
   ],
   "source": [
    "list = [1,2,3,4,5,6,7,8,9,10]\n",
    "sumOfEven, sumOfOdd = 0, 0\n",
    "for ele in list:\n",
    "    if ele % 2 == 0 :\n",
    "        sumOfEven += ele\n",
    "    else :\n",
    "        sumOfOdd += ele\n",
    "print('홀수합={},짝수합={}'.format(sumOfEven,sumOfOdd))"
   ]
  },
  {
   "cell_type": "code",
   "execution_count": 19,
   "id": "25d54cc3",
   "metadata": {},
   "outputs": [
    {
     "data": {
      "text/plain": [
       "30"
      ]
     },
     "execution_count": 19,
     "metadata": {},
     "output_type": "execute_result"
    }
   ],
   "source": [
    "sumOfEven"
   ]
  },
  {
   "cell_type": "code",
   "execution_count": 21,
   "id": "9c2809c0",
   "metadata": {},
   "outputs": [
    {
     "name": "stdout",
     "output_type": "stream",
     "text": [
      "홀수합=20,짝수합=25\n"
     ]
    }
   ],
   "source": [
    "sumOfEven , sumOfOdd = 0,0\n",
    "for ele in range(1,10):\n",
    "    if ele % 2 == 0 :\n",
    "        sumOfEven += ele\n",
    "    else :\n",
    "        sumOfOdd += ele\n",
    "print('홀수합={},짝수합={}'.format(sumOfEven,sumOfOdd))\n",
    "# 10을 포함하지 않음"
   ]
  },
  {
   "cell_type": "code",
   "execution_count": 22,
   "id": "e8e8efda",
   "metadata": {},
   "outputs": [
    {
     "name": "stdout",
     "output_type": "stream",
     "text": [
      "홀수합=30,짝수합=25\n"
     ]
    }
   ],
   "source": [
    "sumOfEven , sumOfOdd = 0,0\n",
    "for ele in range(1,10+1):\n",
    "    if ele % 2 == 0 :\n",
    "        sumOfEven += ele\n",
    "    else :\n",
    "        sumOfOdd += ele\n",
    "print('홀수합={},짝수합={}'.format(sumOfEven,sumOfOdd))"
   ]
  },
  {
   "cell_type": "code",
   "execution_count": 23,
   "id": "8544529d",
   "metadata": {},
   "outputs": [
    {
     "name": "stdout",
     "output_type": "stream",
     "text": [
      "홀수합=30,짝수합=25\n"
     ]
    }
   ],
   "source": [
    "list = (1,2,3,4,5,6,7,8,9,10)\n",
    "sumOfEven , sumOfOdd = 0,0\n",
    "for ele in list:\n",
    "    if ele % 2 == 0 :\n",
    "        sumOfEven += ele\n",
    "    else :\n",
    "        sumOfOdd += ele\n",
    "print('홀수합={},짝수합={}'.format(sumOfEven,sumOfOdd))"
   ]
  },
  {
   "cell_type": "code",
   "execution_count": 24,
   "id": "bb40f31c",
   "metadata": {},
   "outputs": [
    {
     "name": "stdout",
     "output_type": "stream",
     "text": [
      "홀수합=30,짝수합=25\n"
     ]
    }
   ],
   "source": [
    "list = {1,2,3,4,5,6,7,8,9,10}\n",
    "sumOfEven , sumOfOdd = 0,0\n",
    "for ele in list:\n",
    "    if ele % 2 == 0 :\n",
    "        sumOfEven += ele\n",
    "    else :\n",
    "        sumOfOdd += ele\n",
    "print('홀수합={},짝수합={}'.format(sumOfEven,sumOfOdd))"
   ]
  },
  {
   "cell_type": "markdown",
   "id": "7dfda9e3",
   "metadata": {},
   "source": [
    "2. 1~10까지의 정수를 랜덤하게 리스트로 추출하고 이 중 최대값을 구하시오"
   ]
  },
  {
   "cell_type": "code",
   "execution_count": 28,
   "id": "70fa2921",
   "metadata": {},
   "outputs": [
    {
     "data": {
      "text/plain": [
       "[5, 9]"
      ]
     },
     "execution_count": 28,
     "metadata": {},
     "output_type": "execute_result"
    }
   ],
   "source": [
    "import random\n",
    "random.sample(range(1,10),2)"
   ]
  },
  {
   "cell_type": "code",
   "execution_count": 29,
   "id": "eb826642",
   "metadata": {},
   "outputs": [
    {
     "data": {
      "text/plain": [
       "[6, 3, 10, 2, 8, 7, 4, 5, 9]"
      ]
     },
     "execution_count": 29,
     "metadata": {},
     "output_type": "execute_result"
    }
   ],
   "source": [
    "import random\n",
    "random.sample(range(1,11),9)"
   ]
  },
  {
   "cell_type": "code",
   "execution_count": 31,
   "id": "47e3d97c",
   "metadata": {},
   "outputs": [
    {
     "data": {
      "text/plain": [
       "[8, 9, 1, 6, 3, 2, 10, 5, 7, 4]"
      ]
     },
     "execution_count": 31,
     "metadata": {},
     "output_type": "execute_result"
    }
   ],
   "source": [
    "import random\n",
    "random.sample(range(1,11),10) # 1~10 정수중 랜덤한 값 10개를 추출해 리스트로 반환"
   ]
  },
  {
   "cell_type": "code",
   "execution_count": 36,
   "id": "fac23795",
   "metadata": {},
   "outputs": [
    {
     "name": "stdout",
     "output_type": "stream",
     "text": [
      "[8, 9, 6, 2, 1, 5, 7, 3, 4, 10]\n",
      "10\n"
     ]
    }
   ],
   "source": [
    "import random\n",
    "list = random.sample(range(1,11),10) \n",
    "print(list)\n",
    "maxValue = list[0]\n",
    "for ele in list :\n",
    "    if ele > maxValue : \n",
    "        maxValue = ele \n",
    "print(maxValue)"
   ]
  },
  {
   "cell_type": "code",
   "execution_count": 37,
   "id": "6ef145f0",
   "metadata": {},
   "outputs": [],
   "source": [
    "def getMax(list):\n",
    "    maxValue = list[0]\n",
    "    for ele in list :\n",
    "        if ele > maxValue : \n",
    "            maxValue = ele \n",
    "    return maxValue\n",
    "    "
   ]
  },
  {
   "cell_type": "code",
   "execution_count": 38,
   "id": "05fdb5e6",
   "metadata": {},
   "outputs": [
    {
     "name": "stdout",
     "output_type": "stream",
     "text": [
      "[1, 10, 9, 5, 3, 8, 4, 6, 2, 7]\n",
      "10\n"
     ]
    }
   ],
   "source": [
    "import random\n",
    "list = random.sample(range(1,11),10) \n",
    "print(list)\n",
    "maxValue = getMax(list)\n",
    "print(maxValue)"
   ]
  },
  {
   "cell_type": "code",
   "execution_count": 39,
   "id": "dbd46cc9",
   "metadata": {},
   "outputs": [
    {
     "ename": "SyntaxError",
     "evalue": "invalid syntax (3549257641.py, line 2)",
     "output_type": "error",
     "traceback": [
      "\u001b[1;36m  Cell \u001b[1;32mIn[39], line 2\u001b[1;36m\u001b[0m\n\u001b[1;33m    getMax = lambda list:\u001b[0m\n\u001b[1;37m                         ^\u001b[0m\n\u001b[1;31mSyntaxError\u001b[0m\u001b[1;31m:\u001b[0m invalid syntax\n"
     ]
    }
   ],
   "source": [
    "# 람다표현식\n",
    "getMax = lambda list: \n",
    "    maxValue = list[0]\n",
    "    for ele in list :\n",
    "        if ele > maxValue : \n",
    "            maxValue = ele \n",
    "    return maxValue"
   ]
  },
  {
   "cell_type": "code",
   "execution_count": null,
   "id": "53fd9078",
   "metadata": {},
   "outputs": [],
   "source": [
    "# 파이썬의 람다식에서는 지역변수를 사용불가능"
   ]
  }
 ],
 "metadata": {
  "kernelspec": {
   "display_name": "Python 3 (ipykernel)",
   "language": "python",
   "name": "python3"
  },
  "language_info": {
   "codemirror_mode": {
    "name": "ipython",
    "version": 3
   },
   "file_extension": ".py",
   "mimetype": "text/x-python",
   "name": "python",
   "nbconvert_exporter": "python",
   "pygments_lexer": "ipython3",
   "version": "3.10.9"
  }
 },
 "nbformat": 4,
 "nbformat_minor": 5
}
