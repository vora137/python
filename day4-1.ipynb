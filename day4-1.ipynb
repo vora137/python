{
 "cells": [
  {
   "cell_type": "markdown",
   "id": "2f7ebdca",
   "metadata": {},
   "source": [
    "#### 1. 딕셔너리 객체 생성"
   ]
  },
  {
   "cell_type": "code",
   "execution_count": 1,
   "id": "f60ba4b3",
   "metadata": {},
   "outputs": [
    {
     "data": {
      "text/plain": [
       "dict"
      ]
     },
     "execution_count": 1,
     "metadata": {},
     "output_type": "execute_result"
    }
   ],
   "source": [
    "\n",
    "dictionary = {}\n",
    "type(dictionary)\n"
   ]
  },
  {
   "cell_type": "code",
   "execution_count": 2,
   "id": "6dac0f69",
   "metadata": {},
   "outputs": [
    {
     "data": {
      "text/plain": [
       "dict"
      ]
     },
     "execution_count": 2,
     "metadata": {},
     "output_type": "execute_result"
    }
   ],
   "source": [
    "dictionary2 = dict()\n",
    "type(dictionary)"
   ]
  },
  {
   "cell_type": "markdown",
   "id": "d80b5e2e",
   "metadata": {},
   "source": [
    "#### 2. 요소추가"
   ]
  },
  {
   "cell_type": "code",
   "execution_count": 3,
   "id": "fbbbe17e",
   "metadata": {},
   "outputs": [
    {
     "data": {
      "text/plain": [
       "{'student': '학생', 'teacher': '교사', 'classroom': '교실'}"
      ]
     },
     "execution_count": 3,
     "metadata": {},
     "output_type": "execute_result"
    }
   ],
   "source": [
    "dictionary['student'] = '학생'\n",
    "dictionary['teacher'] = '교사'\n",
    "dictionary['classroom'] = '교실'\n",
    "dictionary"
   ]
  },
  {
   "cell_type": "markdown",
   "id": "6929e8e6",
   "metadata": {},
   "source": [
    "#### 3. 요소삭제"
   ]
  },
  {
   "cell_type": "code",
   "execution_count": 4,
   "id": "ecbe354c",
   "metadata": {},
   "outputs": [
    {
     "data": {
      "text/plain": [
       "{'student': '학생', 'teacher': '교사'}"
      ]
     },
     "execution_count": 4,
     "metadata": {},
     "output_type": "execute_result"
    }
   ],
   "source": [
    "del dictionary['classroom']\n",
    "dictionary"
   ]
  },
  {
   "cell_type": "code",
   "execution_count": 5,
   "id": "d543e269",
   "metadata": {},
   "outputs": [
    {
     "name": "stdout",
     "output_type": "stream",
     "text": [
      "교사\n",
      "{'student': '학생'}\n"
     ]
    }
   ],
   "source": [
    "deletedItem = dictionary.pop('teacher')\n",
    "print(deletedItem)\n",
    "print(dictionary)"
   ]
  },
  {
   "cell_type": "markdown",
   "id": "95bcd793",
   "metadata": {},
   "source": [
    "#### 4. 요소수정"
   ]
  },
  {
   "cell_type": "code",
   "execution_count": 6,
   "id": "aa1b83b7",
   "metadata": {},
   "outputs": [
    {
     "name": "stdout",
     "output_type": "stream",
     "text": [
      "{'student': '학생2'}\n"
     ]
    }
   ],
   "source": [
    "dictionary['student'] = '학생2'\n",
    "print(dictionary)"
   ]
  },
  {
   "cell_type": "markdown",
   "id": "c7174b58",
   "metadata": {},
   "source": [
    "#### 5. 요소 조회"
   ]
  },
  {
   "cell_type": "code",
   "execution_count": 7,
   "id": "c8de1d58",
   "metadata": {},
   "outputs": [
    {
     "name": "stdout",
     "output_type": "stream",
     "text": [
      "{'student': '학생2', 'teacher': '교사', 'classroom': '교실'}\n"
     ]
    }
   ],
   "source": [
    "dictionary['teacher'] = '교사'\n",
    "dictionary['classroom'] = '교실'\n",
    "print(dictionary)"
   ]
  },
  {
   "cell_type": "markdown",
   "id": "b5cdc180",
   "metadata": {},
   "source": [
    "1. items() : 엔트리 -> 리스트로 반환"
   ]
  },
  {
   "cell_type": "code",
   "execution_count": 8,
   "id": "3f5350c8",
   "metadata": {},
   "outputs": [
    {
     "name": "stdout",
     "output_type": "stream",
     "text": [
      "dict_items([('student', '학생2'), ('teacher', '교사'), ('classroom', '교실')])\n"
     ]
    }
   ],
   "source": [
    "items = dictionary. items()\n",
    "print(items)"
   ]
  },
  {
   "cell_type": "markdown",
   "id": "33ce96c1",
   "metadata": {},
   "source": [
    "2. keys() : 키 -> 리스트 반환"
   ]
  },
  {
   "cell_type": "code",
   "execution_count": 9,
   "id": "0aa34e28",
   "metadata": {},
   "outputs": [
    {
     "name": "stdout",
     "output_type": "stream",
     "text": [
      "dict_keys(['student', 'teacher', 'classroom'])\n"
     ]
    }
   ],
   "source": [
    "keys = dictionary.keys()\n",
    "print(keys)"
   ]
  },
  {
   "cell_type": "markdown",
   "id": "afbd1041",
   "metadata": {},
   "source": [
    "3. values(): 값 -> 리스트 반환"
   ]
  },
  {
   "cell_type": "code",
   "execution_count": 10,
   "id": "5ff500ca",
   "metadata": {},
   "outputs": [
    {
     "name": "stdout",
     "output_type": "stream",
     "text": [
      "dict_values(['학생2', '교사', '교실'])\n"
     ]
    }
   ],
   "source": [
    "values = dictionary.values()\n",
    "print(values)"
   ]
  },
  {
   "cell_type": "markdown",
   "id": "70401cbb",
   "metadata": {},
   "source": [
    "4. 키로 값 조회"
   ]
  },
  {
   "cell_type": "code",
   "execution_count": 11,
   "id": "e4f021a5",
   "metadata": {},
   "outputs": [
    {
     "name": "stdout",
     "output_type": "stream",
     "text": [
      "학생2\n"
     ]
    }
   ],
   "source": [
    "value = dictionary['student']\n",
    "print(value)"
   ]
  },
  {
   "cell_type": "code",
   "execution_count": 12,
   "id": "85cbdf94",
   "metadata": {},
   "outputs": [
    {
     "name": "stdout",
     "output_type": "stream",
     "text": [
      "학생2\n",
      "-1\n"
     ]
    }
   ],
   "source": [
    "# 키값이 존재하면 값을 읽어오고 없으면 2번째 매개값 반환\n",
    "value2 = dictionary.get('student','없음')\n",
    "print(value2)\n",
    "value3 = dictionary.get('chair','-1')\n",
    "print(value3)"
   ]
  },
  {
   "cell_type": "markdown",
   "id": "b9e23fa0",
   "metadata": {},
   "source": [
    "5. 요소전체 순회하며 출력하기"
   ]
  },
  {
   "cell_type": "code",
   "execution_count": 16,
   "id": "ce967545",
   "metadata": {},
   "outputs": [
    {
     "name": "stdout",
     "output_type": "stream",
     "text": [
      "student         : 학생2\n",
      "teacher         : 교사\n",
      "classroom       : 교실\n"
     ]
    }
   ],
   "source": [
    "for key in dictionary.keys():\n",
    "    print('{:15} : {}'.format(key,dictionary[key]))"
   ]
  },
  {
   "cell_type": "code",
   "execution_count": 17,
   "id": "2b0c9902",
   "metadata": {},
   "outputs": [
    {
     "name": "stdout",
     "output_type": "stream",
     "text": [
      "        student : 학생2\n",
      "        teacher : 교사\n",
      "      classroom : 교실\n"
     ]
    }
   ],
   "source": [
    "for key in dictionary.keys():\n",
    "    print('{:>15} : {}'.format(key,dictionary[key]))"
   ]
  },
  {
   "cell_type": "code",
   "execution_count": 21,
   "id": "68c7541c",
   "metadata": {
    "scrolled": true
   },
   "outputs": [
    {
     "name": "stdout",
     "output_type": "stream",
     "text": [
      "student         : 학생2\n",
      "teacher         : 교사\n",
      "classroom       : 교실\n",
      "None\n"
     ]
    }
   ],
   "source": [
    "def printList(dic) :\n",
    "    for key in dic.keys():\n",
    "        print('{:15} : {}'.format(key,dic[key]))\n",
    "print(printList(dictionary))"
   ]
  },
  {
   "cell_type": "markdown",
   "id": "5a632f1a",
   "metadata": {},
   "source": [
    "6. 객체 복사"
   ]
  },
  {
   "cell_type": "code",
   "execution_count": 23,
   "id": "eaa7320f",
   "metadata": {},
   "outputs": [
    {
     "name": "stdout",
     "output_type": "stream",
     "text": [
      "{'student': '학생2', 'teacher': '교사', 'classroom': '교실'} \n",
      " {'student': '학생2', 'teacher': '교사', 'classroom': '교실'}\n"
     ]
    }
   ],
   "source": [
    "dictionary3 = dictionary.copy() # 동일한 사전 복사\n",
    "print(dictionary, '\\n', dictionary3)"
   ]
  },
  {
   "cell_type": "markdown",
   "id": "826aea6b",
   "metadata": {},
   "source": [
    "7. 2개의 딕셔너리 병합하기\n",
    "- 키가동일하면 업데이트 다르면 추가되는 방식"
   ]
  },
  {
   "cell_type": "code",
   "execution_count": 25,
   "id": "5c82b007",
   "metadata": {},
   "outputs": [
    {
     "name": "stdout",
     "output_type": "stream",
     "text": [
      "{'student': '학생2', 'teacher': '교사', 'classroom': '교실', 'blackboard': '칠판'}\n"
     ]
    }
   ],
   "source": [
    "dictionary3['blackboard'] = '칠판'\n",
    "dictionary.update(dictionary3)\n",
    "print(dictionary)"
   ]
  },
  {
   "cell_type": "markdown",
   "id": "f581b320",
   "metadata": {},
   "source": [
    "8. 키가있으면 값을 반환하고 없으면 추가"
   ]
  },
  {
   "cell_type": "code",
   "execution_count": 29,
   "id": "3d05a150",
   "metadata": {},
   "outputs": [
    {
     "name": "stdout",
     "output_type": "stream",
     "text": [
      "학생2\n",
      "학생3\n",
      "{'student': '학생2', 'teacher': '교사', 'classroom': '교실', 'blackboard': '칠판', 'student3': '학생3'}\n"
     ]
    }
   ],
   "source": [
    "# 키가 있으면 값을 반환\n",
    "print(dictionary.setdefault('student','학생3'))\n",
    "\n",
    "# 키가 없으면 요소 추가\n",
    "print(dictionary.setdefault('student3','학생3'))\n",
    "print(dictionary)"
   ]
  },
  {
   "cell_type": "markdown",
   "id": "dee95355",
   "metadata": {},
   "source": [
    "9. key 존재여부 판단"
   ]
  },
  {
   "cell_type": "code",
   "execution_count": 30,
   "id": "d4a6f73b",
   "metadata": {},
   "outputs": [
    {
     "name": "stdout",
     "output_type": "stream",
     "text": [
      "True\n",
      "True\n"
     ]
    }
   ],
   "source": [
    "print('student' in dictionary)\n",
    "print('student22' not in dictionary)"
   ]
  },
  {
   "cell_type": "markdown",
   "id": "e50fff15",
   "metadata": {},
   "source": [
    "10. 요소 갯수"
   ]
  },
  {
   "cell_type": "code",
   "execution_count": 31,
   "id": "97eca241",
   "metadata": {},
   "outputs": [
    {
     "name": "stdout",
     "output_type": "stream",
     "text": [
      "5\n"
     ]
    }
   ],
   "source": [
    "print(len(dictionary))"
   ]
  },
  {
   "cell_type": "markdown",
   "id": "38d5c92e",
   "metadata": {},
   "source": [
    "11. 요소 정렬"
   ]
  },
  {
   "cell_type": "code",
   "execution_count": 39,
   "id": "c6b2019e",
   "metadata": {},
   "outputs": [
    {
     "name": "stdout",
     "output_type": "stream",
     "text": [
      "==정렬 시작==\n",
      "[('teacher', '교사'), ('classroom', '교실'), ('blackboard', '칠판'), ('student', '학생2'), ('student3', '학생3')]\n"
     ]
    }
   ],
   "source": [
    "import operator\n",
    "print('==정렬 시작==')\n",
    "sortedDictionary = sorted(dictionary.items(),key=operator.itemgetter(0)) # 0이면 key로 정렬 , 1이면 value로 정렬\n",
    "print(sortedDictionary)\n",
    "reversedDictionary = orted(dictionary.items(),key=operator.itemgetter(0),reverse=True)\n",
    "print(reversedDictionary)"
   ]
  },
  {
   "cell_type": "code",
   "execution_count": 44,
   "id": "5fe9beab",
   "metadata": {},
   "outputs": [
    {
     "name": "stdout",
     "output_type": "stream",
     "text": [
      "오름차순 정렬\n",
      "teacher        :교사\n",
      "classroom      :교실\n",
      "blackboard     :칠판\n",
      "student        :학생2\n",
      "student3       :학생3\n"
     ]
    }
   ],
   "source": [
    "print('오름차순 정렬')\n",
    "for entry in sortedDictionary:\n",
    "    print('{:15}:{}'.format(entry[0],entry[1]))"
   ]
  },
  {
   "cell_type": "code",
   "execution_count": 46,
   "id": "12c6a497",
   "metadata": {},
   "outputs": [
    {
     "name": "stdout",
     "output_type": "stream",
     "text": [
      "오름차순 정렬\n",
      "student3       :학생3\n",
      "student        :학생2\n",
      "blackboard     :칠판\n",
      "classroom      :교실\n",
      "teacher        :교사\n"
     ]
    }
   ],
   "source": [
    "print('오름차순 정렬')\n",
    "for entry in reversedDictionary:\n",
    "    print('{:15}:{}'.format(entry[0],entry[1]))"
   ]
  },
  {
   "cell_type": "code",
   "execution_count": 48,
   "id": "635da642",
   "metadata": {},
   "outputs": [
    {
     "name": "stdout",
     "output_type": "stream",
     "text": [
      "adfg\n",
      "a d f g\n",
      "a d f g\n",
      "a d f g\n"
     ]
    }
   ],
   "source": [
    "# 문자열 공백 제거\n",
    "# replace() : 모든공백 제거\n",
    "#strip(), Istrip(), rstrip() : 양쪽 왼쪽 오른쪽 공백 제거\n",
    "print('a d f g'.replace(' ',''))\n",
    "\n",
    "print('a d f g'.strip())\n",
    "print('a d f g'.lstrip())\n",
    "print('a d f g'.rstrip())"
   ]
  },
  {
   "cell_type": "code",
   "execution_count": 51,
   "id": "542564b1",
   "metadata": {},
   "outputs": [],
   "source": [
    "# 파일에 저장하기\n",
    "f = open('d:\\javaedu10\\project\\python\\dictionary.txt','w',encoding='UTF8') # w는 쓰기모드\n",
    "if f.writable() :\n",
    "    for item in sortedDictionary :\n",
    "        f.write('{}:{}\\n'.format(item[0].strip(),item[1].strip()))\n",
    "    f.close()"
   ]
  },
  {
   "cell_type": "code",
   "execution_count": 53,
   "id": "33cfef12",
   "metadata": {
    "scrolled": true
   },
   "outputs": [
    {
     "name": "stdout",
     "output_type": "stream",
     "text": [
      "{'teacher': '교사\\n', 'classroom': '교실\\n', 'blackboard': '칠판\\n', 'student': '학생2\\n', 'student3': '학생3\\n'}\n"
     ]
    }
   ],
   "source": [
    "# 파일에 읽어오기\n",
    "f = open('d:\\javaedu10\\project\\python\\dictionary.txt','r',encoding='UTF8') # r는 읽기모드\n",
    "dic = {}\n",
    "if f.readable() :\n",
    "    for item in f.readlines() :\n",
    "        list = item.split(':')\n",
    "#         print(list)\n",
    "        dic[list[0].strip()] = list[1]\n",
    "    f.close()\n",
    "print(dic)"
   ]
  },
  {
   "cell_type": "code",
   "execution_count": 55,
   "id": "5c6e26f0",
   "metadata": {},
   "outputs": [
    {
     "name": "stdout",
     "output_type": "stream",
     "text": [
      "{'teacher': '교사', 'classroom': '교실', 'blackboard': '칠판', 'student': '학생2', 'student3': '학생3'}\n"
     ]
    }
   ],
   "source": [
    "# 파일에 읽어오기\n",
    "f = open('d:\\javaedu10\\project\\python\\dictionary.txt','r',encoding='UTF8') \n",
    "dic = {}\n",
    "if f.readable() :\n",
    "    for item in f.readlines() : # 파일에서 한줄을 읽어 문자열로 가져옴  'blackboard': '칠판\\n'\n",
    "        list = item.split(':')  # 문자열을 \":\"를 구분자로 배열로 반환\n",
    "#         print(list)\n",
    "        dic[list[0].strip()] = list[1][:-1] # 문자열 슬라이싱\n",
    "    f.close()\n",
    "print(dic)"
   ]
  },
  {
   "cell_type": "code",
   "execution_count": 56,
   "id": "7b9023fc",
   "metadata": {},
   "outputs": [
    {
     "name": "stdout",
     "output_type": "stream",
     "text": [
      "0\n"
     ]
    }
   ],
   "source": [
    "# 요소 전체 삭제\n",
    "dic.clear()\n",
    "print(len(dic))"
   ]
  },
  {
   "cell_type": "code",
   "execution_count": 58,
   "id": "8672c15b",
   "metadata": {},
   "outputs": [
    {
     "name": "stdout",
     "output_type": "stream",
     "text": [
      "4\n",
      "5\n"
     ]
    }
   ],
   "source": [
    "# 문자열 길이 구하기, 컬렉션 요소 수 len()\n",
    "print(len('abcd'))\n",
    "print(len(dictionary))"
   ]
  },
  {
   "cell_type": "code",
   "execution_count": 63,
   "id": "7b0f69b7",
   "metadata": {},
   "outputs": [
    {
     "name": "stdout",
     "output_type": "stream",
     "text": [
      "True\n",
      "abc\n",
      "AAA\n"
     ]
    }
   ],
   "source": [
    "# 문자열 비교 ==\n",
    "print('aBc' == 'aBc')\n",
    "# 소문자 대문자 변환 : lower(), upper()\n",
    "print('ABC'.lower())\n",
    "print('aaa'.upper())"
   ]
  },
  {
   "cell_type": "code",
   "execution_count": 64,
   "id": "0d5ed747",
   "metadata": {},
   "outputs": [
    {
     "name": "stdout",
     "output_type": "stream",
     "text": [
      "단어를 입력하세요 >> aaa\n",
      "AAA\n"
     ]
    }
   ],
   "source": [
    "word = input('단어를 입력하세요 >> ')\n",
    "print(word.upper())"
   ]
  },
  {
   "cell_type": "code",
   "execution_count": 66,
   "id": "d47ae7cd",
   "metadata": {},
   "outputs": [
    {
     "name": "stdout",
     "output_type": "stream",
     "text": [
      "단어를 입력하세요 >> ASDFGEW\n",
      "asdfgew\n"
     ]
    }
   ],
   "source": [
    "word = input('단어를 입력하세요 >> ')\n",
    "print(word.lower())"
   ]
  },
  {
   "cell_type": "code",
   "execution_count": null,
   "id": "b1c7ed95",
   "metadata": {},
   "outputs": [],
   "source": []
  }
 ],
 "metadata": {
  "kernelspec": {
   "display_name": "Python 3 (ipykernel)",
   "language": "python",
   "name": "python3"
  },
  "language_info": {
   "codemirror_mode": {
    "name": "ipython",
    "version": 3
   },
   "file_extension": ".py",
   "mimetype": "text/x-python",
   "name": "python",
   "nbconvert_exporter": "python",
   "pygments_lexer": "ipython3",
   "version": "3.10.9"
  }
 },
 "nbformat": 4,
 "nbformat_minor": 5
}
