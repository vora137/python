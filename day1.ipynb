{
 "cells": [
  {
   "cell_type": "code",
   "execution_count": 1,
   "id": "5b920ae8",
   "metadata": {},
   "outputs": [],
   "source": [
    "a=10"
   ]
  },
  {
   "cell_type": "code",
   "execution_count": 2,
   "id": "2330b4c9",
   "metadata": {},
   "outputs": [],
   "source": [
    "b=20"
   ]
  },
  {
   "cell_type": "code",
   "execution_count": 3,
   "id": "4a85bb3f",
   "metadata": {},
   "outputs": [],
   "source": [
    "sum = a+b"
   ]
  },
  {
   "cell_type": "code",
   "execution_count": 7,
   "id": "6ae7a514",
   "metadata": {},
   "outputs": [
    {
     "name": "stdout",
     "output_type": "stream",
     "text": [
      "30\n"
     ]
    }
   ],
   "source": [
    "print(sum)"
   ]
  },
  {
   "cell_type": "code",
   "execution_count": 9,
   "id": "c08c9784",
   "metadata": {},
   "outputs": [
    {
     "data": {
      "text/plain": [
       "range(0, 10)"
      ]
     },
     "execution_count": 9,
     "metadata": {},
     "output_type": "execute_result"
    }
   ],
   "source": [
    "range(10)"
   ]
  },
  {
   "cell_type": "code",
   "execution_count": 10,
   "id": "919796cb",
   "metadata": {},
   "outputs": [
    {
     "name": "stdout",
     "output_type": "stream",
     "text": [
      "0\t1\t2\t3\t4\t5\t6\t7\t8\t9\t"
     ]
    }
   ],
   "source": [
    "for i in range(0,10):\n",
    "    print(i,end='\\t')"
   ]
  },
  {
   "cell_type": "code",
   "execution_count": 11,
   "id": "8c3e6fd6",
   "metadata": {},
   "outputs": [
    {
     "name": "stdout",
     "output_type": "stream",
     "text": [
      "0\t2\t4\t6\t8\t"
     ]
    }
   ],
   "source": [
    "for i in range(0,10,2):\n",
    "    print(i,end='\\t')"
   ]
  },
  {
   "cell_type": "code",
   "execution_count": 12,
   "id": "dfce4c73",
   "metadata": {},
   "outputs": [
    {
     "name": "stdout",
     "output_type": "stream",
     "text": [
      "0\t1\t2\t3\t4\t"
     ]
    }
   ],
   "source": [
    "for i in range(5):\n",
    "    print(i,end='\\t')"
   ]
  },
  {
   "cell_type": "code",
   "execution_count": 13,
   "id": "1e62fc24",
   "metadata": {},
   "outputs": [
    {
     "name": "stdout",
     "output_type": "stream",
     "text": [
      "축구\t배구\t농구\t"
     ]
    }
   ],
   "source": [
    "strs = ['축구','배구','농구']\n",
    "for ele in strs:\n",
    "    print(ele, end='\\t')"
   ]
  },
  {
   "cell_type": "code",
   "execution_count": 15,
   "id": "a45c308b",
   "metadata": {},
   "outputs": [
    {
     "name": "stdout",
     "output_type": "stream",
     "text": [
      "1\t1.2\t사과\t배\t"
     ]
    }
   ],
   "source": [
    "values = (1,1.2,'사과','배')\n",
    "for ele in values :\n",
    "    print(ele, end = '\\t')"
   ]
  },
  {
   "cell_type": "code",
   "execution_count": 16,
   "id": "c6a46efa",
   "metadata": {},
   "outputs": [
    {
     "name": "stdout",
     "output_type": "stream",
     "text": [
      "{}x{}={} 2 1 2\n",
      "{}x{}={} 2 2 4\n",
      "{}x{}={} 2 3 6\n",
      "{}x{}={} 2 4 8\n",
      "{}x{}={} 2 5 10\n",
      "{}x{}={} 2 6 12\n",
      "{}x{}={} 2 7 14\n",
      "{}x{}={} 2 8 16\n",
      "{}x{}={} 2 9 18\n",
      "{}x{}={} 3 1 3\n",
      "{}x{}={} 3 2 6\n",
      "{}x{}={} 3 3 9\n",
      "{}x{}={} 3 4 12\n",
      "{}x{}={} 3 5 15\n",
      "{}x{}={} 3 6 18\n",
      "{}x{}={} 3 7 21\n",
      "{}x{}={} 3 8 24\n",
      "{}x{}={} 3 9 27\n",
      "{}x{}={} 4 1 4\n",
      "{}x{}={} 4 2 8\n",
      "{}x{}={} 4 3 12\n",
      "{}x{}={} 4 4 16\n",
      "{}x{}={} 4 5 20\n",
      "{}x{}={} 4 6 24\n",
      "{}x{}={} 4 7 28\n",
      "{}x{}={} 4 8 32\n",
      "{}x{}={} 4 9 36\n",
      "{}x{}={} 5 1 5\n",
      "{}x{}={} 5 2 10\n",
      "{}x{}={} 5 3 15\n",
      "{}x{}={} 5 4 20\n",
      "{}x{}={} 5 5 25\n",
      "{}x{}={} 5 6 30\n",
      "{}x{}={} 5 7 35\n",
      "{}x{}={} 5 8 40\n",
      "{}x{}={} 5 9 45\n",
      "{}x{}={} 6 1 6\n",
      "{}x{}={} 6 2 12\n",
      "{}x{}={} 6 3 18\n",
      "{}x{}={} 6 4 24\n",
      "{}x{}={} 6 5 30\n",
      "{}x{}={} 6 6 36\n",
      "{}x{}={} 6 7 42\n",
      "{}x{}={} 6 8 48\n",
      "{}x{}={} 6 9 54\n",
      "{}x{}={} 7 1 7\n",
      "{}x{}={} 7 2 14\n",
      "{}x{}={} 7 3 21\n",
      "{}x{}={} 7 4 28\n",
      "{}x{}={} 7 5 35\n",
      "{}x{}={} 7 6 42\n",
      "{}x{}={} 7 7 49\n",
      "{}x{}={} 7 8 56\n",
      "{}x{}={} 7 9 63\n",
      "{}x{}={} 8 1 8\n",
      "{}x{}={} 8 2 16\n",
      "{}x{}={} 8 3 24\n",
      "{}x{}={} 8 4 32\n",
      "{}x{}={} 8 5 40\n",
      "{}x{}={} 8 6 48\n",
      "{}x{}={} 8 7 56\n",
      "{}x{}={} 8 8 64\n",
      "{}x{}={} 8 9 72\n"
     ]
    }
   ],
   "source": [
    "for i in range(2,9):\n",
    "    for j in range(1,10):\n",
    "        print(\"{}x{}={}\",i,j,i*j)"
   ]
  },
  {
   "cell_type": "code",
   "execution_count": null,
   "id": "0e5a27b2",
   "metadata": {},
   "outputs": [],
   "source": []
  }
 ],
 "metadata": {
  "kernelspec": {
   "display_name": "Python 3 (ipykernel)",
   "language": "python",
   "name": "python3"
  },
  "language_info": {
   "codemirror_mode": {
    "name": "ipython",
    "version": 3
   },
   "file_extension": ".py",
   "mimetype": "text/x-python",
   "name": "python",
   "nbconvert_exporter": "python",
   "pygments_lexer": "ipython3",
   "version": "3.10.9"
  }
 },
 "nbformat": 4,
 "nbformat_minor": 5
}
