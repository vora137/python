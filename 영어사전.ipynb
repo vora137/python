{
 "cells": [
  {
   "cell_type": "markdown",
   "id": "6e98ad94",
   "metadata": {},
   "source": [
    "#### 딕셔너리 생성"
   ]
  },
  {
   "cell_type": "code",
   "execution_count": 1,
   "id": "d24518f7",
   "metadata": {},
   "outputs": [
    {
     "data": {
      "text/plain": [
       "dict"
      ]
     },
     "execution_count": 1,
     "metadata": {},
     "output_type": "execute_result"
    }
   ],
   "source": [
    "dictionary = {}\n",
    "type(dictionary)"
   ]
  },
  {
   "cell_type": "code",
   "execution_count": 2,
   "id": "accac1b3",
   "metadata": {},
   "outputs": [
    {
     "data": {
      "text/plain": [
       "dict"
      ]
     },
     "execution_count": 2,
     "metadata": {},
     "output_type": "execute_result"
    }
   ],
   "source": [
    "dictionary2 = dict()\n",
    "type(dictionary)"
   ]
  },
  {
   "cell_type": "markdown",
   "id": "26c8f728",
   "metadata": {},
   "source": [
    "#### 요소추가"
   ]
  },
  {
   "cell_type": "code",
   "execution_count": 3,
   "id": "1056c6f0",
   "metadata": {},
   "outputs": [
    {
     "data": {
      "text/plain": [
       "{'student': '학생', 'teacher': '교사', 'classroom': '교실'}"
      ]
     },
     "execution_count": 3,
     "metadata": {},
     "output_type": "execute_result"
    }
   ],
   "source": [
    "dictionary['student'] = '학생'\n",
    "dictionary['teacher'] = '교사'\n",
    "dictionary['classroom'] = '교실'\n",
    "dictionary"
   ]
  },
  {
   "cell_type": "markdown",
   "id": "993a0a70",
   "metadata": {},
   "source": [
    "#### 요소삭제"
   ]
  },
  {
   "cell_type": "code",
   "execution_count": 4,
   "id": "f535a6c7",
   "metadata": {},
   "outputs": [
    {
     "data": {
      "text/plain": [
       "{'student': '학생', 'teacher': '교사'}"
      ]
     },
     "execution_count": 4,
     "metadata": {},
     "output_type": "execute_result"
    }
   ],
   "source": [
    "del dictionary['classroom']\n",
    "dictionary"
   ]
  },
  {
   "cell_type": "code",
   "execution_count": 5,
   "id": "57c51fea",
   "metadata": {},
   "outputs": [
    {
     "name": "stdout",
     "output_type": "stream",
     "text": [
      "교사\n",
      "{'student': '학생'}\n"
     ]
    }
   ],
   "source": [
    "deletedItem = dictionary.pop('teacher')\n",
    "print(deletedItem)\n",
    "print(dictionary)"
   ]
  },
  {
   "cell_type": "markdown",
   "id": "db5b85e4",
   "metadata": {},
   "source": [
    "#### 요소 수정"
   ]
  },
  {
   "cell_type": "code",
   "execution_count": 6,
   "id": "4fc00874",
   "metadata": {},
   "outputs": [
    {
     "name": "stdout",
     "output_type": "stream",
     "text": [
      "{'student': '학생2'}\n"
     ]
    }
   ],
   "source": [
    "dictionary['student'] = '학생2'\n",
    "print(dictionary)"
   ]
  },
  {
   "cell_type": "markdown",
   "id": "2bc7a8ba",
   "metadata": {},
   "source": [
    "#### 요소 조회"
   ]
  },
  {
   "cell_type": "code",
   "execution_count": 7,
   "id": "4af27eed",
   "metadata": {},
   "outputs": [
    {
     "name": "stdout",
     "output_type": "stream",
     "text": [
      "{'student': '학생2', 'teacher': '교사', 'classroom': '교실'}\n"
     ]
    }
   ],
   "source": [
    "dictionary['teacher'] = '교사'\n",
    "dictionary['classroom'] = '교실'\n",
    "print(dictionary)"
   ]
  },
  {
   "cell_type": "markdown",
   "id": "6263ce93",
   "metadata": {},
   "source": [
    " 1. items() : 엔드리 -> 리스트로반환"
   ]
  },
  {
   "cell_type": "code",
   "execution_count": 8,
   "id": "d43cd0b8",
   "metadata": {},
   "outputs": [
    {
     "name": "stdout",
     "output_type": "stream",
     "text": [
      "dict_items([('student', '학생2'), ('teacher', '교사'), ('classroom', '교실')])\n"
     ]
    }
   ],
   "source": [
    "items = dictionary.items()\n",
    "print(items)"
   ]
  },
  {
   "cell_type": "markdown",
   "id": "101601db",
   "metadata": {},
   "source": [
    "2. keys() : 키 -> 리스트반환"
   ]
  },
  {
   "cell_type": "code",
   "execution_count": 9,
   "id": "246217aa",
   "metadata": {},
   "outputs": [
    {
     "name": "stdout",
     "output_type": "stream",
     "text": [
      "dict_keys(['student', 'teacher', 'classroom'])\n"
     ]
    }
   ],
   "source": [
    "keys = dictionary.keys()\n",
    "print(keys)"
   ]
  },
  {
   "cell_type": "markdown",
   "id": "00943079",
   "metadata": {},
   "source": [
    "3. values(): 값 ->리스트반환"
   ]
  },
  {
   "cell_type": "code",
   "execution_count": 10,
   "id": "18ee6243",
   "metadata": {},
   "outputs": [
    {
     "name": "stdout",
     "output_type": "stream",
     "text": [
      "dict_values(['학생2', '교사', '교실'])\n"
     ]
    }
   ],
   "source": [
    "values = dictionary.values()\n",
    "print(values)"
   ]
  },
  {
   "cell_type": "markdown",
   "id": "c4be6679",
   "metadata": {},
   "source": [
    " 4. 키로 값조회"
   ]
  },
  {
   "cell_type": "code",
   "execution_count": 11,
   "id": "7dc198e7",
   "metadata": {},
   "outputs": [
    {
     "name": "stdout",
     "output_type": "stream",
     "text": [
      "학생2\n"
     ]
    }
   ],
   "source": [
    "value = dictionary['student']\n",
    "print(value)"
   ]
  },
  {
   "cell_type": "code",
   "execution_count": 12,
   "id": "d0d146d4",
   "metadata": {},
   "outputs": [
    {
     "name": "stdout",
     "output_type": "stream",
     "text": [
      "학생2\n",
      "-1\n"
     ]
    }
   ],
   "source": [
    "# 키가 존재하면 값을 읽어오고 없으면 2번째 매개값 반환 \n",
    "value2 = dictionary.get('student','없음')  \n",
    "print(value2)\n",
    "value3 = dictionary.get('chair','-1')  \n",
    "print(value3)"
   ]
  },
  {
   "cell_type": "markdown",
   "id": "bda12a8a",
   "metadata": {},
   "source": [
    "5. 요소전체 순회하며 출력하기 "
   ]
  },
  {
   "cell_type": "code",
   "execution_count": 13,
   "id": "3d87d7e3",
   "metadata": {},
   "outputs": [
    {
     "name": "stdout",
     "output_type": "stream",
     "text": [
      "student         : 학생2\n",
      "teacher         : 교사\n",
      "classroom       : 교실\n"
     ]
    }
   ],
   "source": [
    "for key in dictionary.keys() :\n",
    "    print('{:15} : {}'.format(key, dictionary[key]))"
   ]
  },
  {
   "cell_type": "code",
   "execution_count": 14,
   "id": "d226339b",
   "metadata": {},
   "outputs": [
    {
     "name": "stdout",
     "output_type": "stream",
     "text": [
      "student         : 학생2\n",
      "teacher         : 교사\n",
      "classroom       : 교실\n",
      "None\n"
     ]
    }
   ],
   "source": [
    "def printList(dic) :\n",
    "    for key in dic.keys() :\n",
    "        print('{:15} : {}'.format(key, dic[key]))\n",
    "print(printList(dictionary))        "
   ]
  },
  {
   "cell_type": "markdown",
   "id": "3528efb8",
   "metadata": {},
   "source": [
    " 6. 객체 복사"
   ]
  },
  {
   "cell_type": "code",
   "execution_count": 15,
   "id": "4e548dfb",
   "metadata": {},
   "outputs": [
    {
     "name": "stdout",
     "output_type": "stream",
     "text": [
      "{'student': '학생2', 'teacher': '교사', 'classroom': '교실'} \n",
      " {'student': '학생2', 'teacher': '교사', 'classroom': '교실'}\n"
     ]
    }
   ],
   "source": [
    "dictionary3 = dictionary.copy()\n",
    "print(dictionary, '\\n', dictionary3)"
   ]
  },
  {
   "cell_type": "markdown",
   "id": "8fb59fd4",
   "metadata": {},
   "source": [
    " 7. 2개의 딕셔너리 병합하기\n",
    "   - 키가동일하면 업데이트 다르면 추가되는 방식"
   ]
  },
  {
   "cell_type": "code",
   "execution_count": 16,
   "id": "8806c660",
   "metadata": {},
   "outputs": [
    {
     "name": "stdout",
     "output_type": "stream",
     "text": [
      "{'student': '학생2', 'teacher': '교사', 'classroom': '교실', 'blackboard': '칠판'}\n"
     ]
    }
   ],
   "source": [
    "dictionary3['blackboard'] = '칠판'\n",
    "dictionary.update(dictionary3)\n",
    "print(dictionary)"
   ]
  },
  {
   "cell_type": "markdown",
   "id": "61ea91d4",
   "metadata": {},
   "source": [
    " 8. 키가 있으면 값을 반환하고 없으면 추가"
   ]
  },
  {
   "cell_type": "code",
   "execution_count": 17,
   "id": "ced48896",
   "metadata": {},
   "outputs": [
    {
     "name": "stdout",
     "output_type": "stream",
     "text": [
      "학생2\n",
      "학생3\n",
      "{'student': '학생2', 'teacher': '교사', 'classroom': '교실', 'blackboard': '칠판', 'student3': '학생3'}\n"
     ]
    }
   ],
   "source": [
    "#키가 있으면 값을 반환\n",
    "print(dictionary.setdefault('student','학생3'))\n",
    "#키가 없으면 요소추가\n",
    "print(dictionary.setdefault('student3','학생3'))\n",
    "print(dictionary)"
   ]
  },
  {
   "cell_type": "markdown",
   "id": "8ce4c96b",
   "metadata": {},
   "source": [
    "9. key 존재여부 판단"
   ]
  },
  {
   "cell_type": "code",
   "execution_count": 18,
   "id": "5dcc02f6",
   "metadata": {},
   "outputs": [
    {
     "name": "stdout",
     "output_type": "stream",
     "text": [
      "True\n",
      "True\n"
     ]
    }
   ],
   "source": [
    "print('student' in dictionary)\n",
    "print('student22' not in dictionary)"
   ]
  },
  {
   "cell_type": "markdown",
   "id": "47421c37",
   "metadata": {},
   "source": [
    "10. 요소갯수"
   ]
  },
  {
   "cell_type": "code",
   "execution_count": 19,
   "id": "655df3c6",
   "metadata": {},
   "outputs": [
    {
     "name": "stdout",
     "output_type": "stream",
     "text": [
      "5\n"
     ]
    }
   ],
   "source": [
    "print(len(dictionary))"
   ]
  },
  {
   "cell_type": "markdown",
   "id": "6003461b",
   "metadata": {},
   "source": [
    "11. 요소 정렬"
   ]
  },
  {
   "cell_type": "code",
   "execution_count": 29,
   "id": "638a8443",
   "metadata": {},
   "outputs": [
    {
     "name": "stdout",
     "output_type": "stream",
     "text": [
      "==정렬 시작==\n",
      "[('blackboard', '칠판'), ('classroom', '교실'), ('student', '학생2'), ('student3', '학생3'), ('teacher', '교사')]\n",
      "[('teacher', '교사'), ('student3', '학생3'), ('student', '학생2'), ('classroom', '교실'), ('blackboard', '칠판')]\n"
     ]
    }
   ],
   "source": [
    "import operator\n",
    "print('==정렬 시작==')\n",
    "sortedDictionary = sorted(dictionary.items(),key=operator.itemgetter(0))\n",
    "print(sortedDictionary)\n",
    "reversedDictionary = sorted(dictionary.items(),key=operator.itemgetter(0), reverse=True)\n",
    "print(reversedDictionary)"
   ]
  },
  {
   "cell_type": "code",
   "execution_count": 32,
   "id": "58f60e59",
   "metadata": {},
   "outputs": [
    {
     "name": "stdout",
     "output_type": "stream",
     "text": [
      "오름차순 정렬\n",
      "blackboard      : 칠판\n",
      "classroom       : 교실\n",
      "student         : 학생2\n",
      "student3        : 학생3\n",
      "teacher         : 교사\n"
     ]
    }
   ],
   "source": [
    "print('오름차순 정렬')\n",
    "for entry in sortedDictionary :\n",
    "    print('{:15} : {}'.format(entry[0],entry[1]))"
   ]
  },
  {
   "cell_type": "code",
   "execution_count": 33,
   "id": "6597d549",
   "metadata": {},
   "outputs": [
    {
     "name": "stdout",
     "output_type": "stream",
     "text": [
      "내림차순 정렬\n",
      "teacher         : 교사\n",
      "student3        : 학생3\n",
      "student         : 학생2\n",
      "classroom       : 교실\n",
      "blackboard      : 칠판\n"
     ]
    }
   ],
   "source": [
    "print('내림차순 정렬')\n",
    "for entry in reversedDictionary :\n",
    "    print('{:15} : {}'.format(entry[0],entry[1]))"
   ]
  },
  {
   "cell_type": "code",
   "execution_count": 43,
   "id": "da3a2152",
   "metadata": {},
   "outputs": [
    {
     "name": "stdout",
     "output_type": "stream",
     "text": [
      "adfg\n",
      "a d f g\n",
      "a d f g \n",
      " a d f g\n"
     ]
    }
   ],
   "source": [
    "# 문자열 공백제거\n",
    "# replace() : 모든 공백제거\n",
    "# strip(), lstrip(), rstrip() : 양쪽,왼쪽,오른쪽 공백제거\n",
    "print(' a d f g '.replace(' ',''))\n",
    "\n",
    "print(' a d f g '.strip())\n",
    "print(' a d f g '.lstrip())\n",
    "print(' a d f g '.rstrip())"
   ]
  },
  {
   "cell_type": "code",
   "execution_count": 44,
   "id": "493fce0f",
   "metadata": {},
   "outputs": [],
   "source": [
    "# 파일에 저장하기\n",
    "f = open('d:\\javaedu10\\project\\python\\dictionary.txt','w',encoding='UTF8')\n",
    "if f.writable() :\n",
    "    for item in sortedDictionary :\n",
    "        f.write('{}:{}\\n'.format(item[0].strip(), item[1].strip()))\n",
    "    f.close()"
   ]
  },
  {
   "cell_type": "code",
   "execution_count": 49,
   "id": "ede73d53",
   "metadata": {},
   "outputs": [
    {
     "name": "stdout",
     "output_type": "stream",
     "text": [
      "{'blackboard': '칠판', 'classroom': '교실', 'student': '학생2', 'student3': '학생3', 'teacher': '교사'}\n"
     ]
    }
   ],
   "source": [
    "# 파일에서 읽어오기\n",
    "f = open('d:\\javaedu10\\project\\python\\dictionary.txt','r',encoding='UTF8')\n",
    "dic = {}\n",
    "if f.readable() :\n",
    "\n",
    "    for item in f.readlines() :  #파일에서 한줄을 읽어 문자열로 가져옮  blackboard      :칠판\\n\n",
    "        list = item.split(':')   #문자열을 ':'를 구분자로 배열로 반환\n",
    "#         print(list)\n",
    "        dic[list[0].strip()]=list[1][:-1] #문자열 슬라이싱\n",
    "    f.close()\n",
    "print(dic)"
   ]
  },
  {
   "cell_type": "code",
   "execution_count": 50,
   "id": "15dec245",
   "metadata": {},
   "outputs": [
    {
     "name": "stdout",
     "output_type": "stream",
     "text": [
      "0\n"
     ]
    }
   ],
   "source": [
    "# 요소 전체 삭제\n",
    "dic.clear()\n",
    "print(len(dic))"
   ]
  },
  {
   "cell_type": "code",
   "execution_count": 52,
   "id": "1774c1db",
   "metadata": {},
   "outputs": [
    {
     "name": "stdout",
     "output_type": "stream",
     "text": [
      "4\n",
      "5\n"
     ]
    }
   ],
   "source": [
    "# 문자열 길이 구하기, 컬렉션 요소수 len()\n",
    "print(len('abcd'))\n",
    "print(len(dictionary))"
   ]
  },
  {
   "cell_type": "code",
   "execution_count": 55,
   "id": "53657404",
   "metadata": {},
   "outputs": [
    {
     "name": "stdout",
     "output_type": "stream",
     "text": [
      "True\n",
      "abc\n",
      "AAA\n"
     ]
    }
   ],
   "source": [
    "# 문자열 비교 ==\n",
    "print('aBc' == 'aBc')\n",
    "# 소문자, 대문자 변환 : lower(), upper()\n",
    "print('ABC'.lower())\n",
    "print('aaa'.upper())"
   ]
  },
  {
   "cell_type": "code",
   "execution_count": 56,
   "id": "df2f7d4e",
   "metadata": {},
   "outputs": [
    {
     "name": "stdout",
     "output_type": "stream",
     "text": [
      "단어를 입력하세요 >> abc\n",
      "ABC\n"
     ]
    }
   ],
   "source": [
    "word = input('단어를 입력하세요 >> ')\n",
    "print(word.upper())"
   ]
  },
  {
   "cell_type": "code",
   "execution_count": 57,
   "id": "0de2816b",
   "metadata": {},
   "outputs": [
    {
     "name": "stdout",
     "output_type": "stream",
     "text": [
      "단어를 입력하세요 >> ADFDSAFDSA\n",
      "adfdsafdsa\n"
     ]
    }
   ],
   "source": [
    "word = input('단어를 입력하세요 >> ')\n",
    "print(word.lower())"
   ]
  },
  {
   "cell_type": "code",
   "execution_count": null,
   "id": "d583aae0",
   "metadata": {},
   "outputs": [],
   "source": []
  }
 ],
 "metadata": {
  "kernelspec": {
   "display_name": "Python 3 (ipykernel)",
   "language": "python",
   "name": "python3"
  },
  "language_info": {
   "codemirror_mode": {
    "name": "ipython",
    "version": 3
   },
   "file_extension": ".py",
   "mimetype": "text/x-python",
   "name": "python",
   "nbconvert_exporter": "python",
   "pygments_lexer": "ipython3",
   "version": "3.10.9"
  },
  "toc": {
   "base_numbering": 1,
   "nav_menu": {},
   "number_sections": true,
   "sideBar": true,
   "skip_h1_title": false,
   "title_cell": "Table of Contents",
   "title_sidebar": "Contents",
   "toc_cell": false,
   "toc_position": {},
   "toc_section_display": true,
   "toc_window_display": false
  }
 },
 "nbformat": 4,
 "nbformat_minor": 5
}
